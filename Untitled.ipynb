{
 "cells": [
  {
   "cell_type": "code",
   "execution_count": 7,
   "metadata": {},
   "outputs": [],
   "source": [
    "import pandas as pd\n",
    "import matplotlib.pyplot as plt"
   ]
  },
  {
   "cell_type": "code",
   "execution_count": 2,
   "metadata": {},
   "outputs": [],
   "source": [
    "df = pd.read_csv('spinners.csv')"
   ]
  },
  {
   "cell_type": "code",
   "execution_count": 34,
   "metadata": {},
   "outputs": [
    {
     "data": {
      "text/html": [
       "<div>\n",
       "<style scoped>\n",
       "    .dataframe tbody tr th:only-of-type {\n",
       "        vertical-align: middle;\n",
       "    }\n",
       "\n",
       "    .dataframe tbody tr th {\n",
       "        vertical-align: top;\n",
       "    }\n",
       "\n",
       "    .dataframe thead th {\n",
       "        text-align: right;\n",
       "    }\n",
       "</style>\n",
       "<table border=\"1\" class=\"dataframe\">\n",
       "  <thead>\n",
       "    <tr style=\"text-align: right;\">\n",
       "      <th></th>\n",
       "      <th>Unnamed: 0</th>\n",
       "      <th>Name</th>\n",
       "      <th>Mat</th>\n",
       "      <th>Inns</th>\n",
       "      <th>Balls</th>\n",
       "      <th>Runs</th>\n",
       "      <th>Wkts</th>\n",
       "      <th>BBI</th>\n",
       "      <th>BBM</th>\n",
       "      <th>Ave</th>\n",
       "      <th>Econ</th>\n",
       "      <th>SR</th>\n",
       "      <th>4w</th>\n",
       "      <th>5w</th>\n",
       "      <th>10</th>\n",
       "      <th>Overs</th>\n",
       "    </tr>\n",
       "  </thead>\n",
       "  <tbody>\n",
       "    <tr>\n",
       "      <th>0</th>\n",
       "      <td>0</td>\n",
       "      <td>Adil Rashid</td>\n",
       "      <td>164</td>\n",
       "      <td>158.0</td>\n",
       "      <td>3345</td>\n",
       "      <td>4118</td>\n",
       "      <td>186</td>\n",
       "      <td>4/19</td>\n",
       "      <td>4/19</td>\n",
       "      <td>22.13</td>\n",
       "      <td>7.38</td>\n",
       "      <td>17.9</td>\n",
       "      <td>5.0</td>\n",
       "      <td>0</td>\n",
       "      <td>0</td>\n",
       "      <td>557.3</td>\n",
       "    </tr>\n",
       "    <tr>\n",
       "      <th>1</th>\n",
       "      <td>1</td>\n",
       "      <td>Sandeep Lamichhane</td>\n",
       "      <td>48</td>\n",
       "      <td>48.0</td>\n",
       "      <td>1028</td>\n",
       "      <td>1244</td>\n",
       "      <td>64</td>\n",
       "      <td>4/10</td>\n",
       "      <td>4/10</td>\n",
       "      <td>19.43</td>\n",
       "      <td>7.26</td>\n",
       "      <td>16.0</td>\n",
       "      <td>1.0</td>\n",
       "      <td>0</td>\n",
       "      <td>0</td>\n",
       "      <td>171.2</td>\n",
       "    </tr>\n",
       "    <tr>\n",
       "      <th>2</th>\n",
       "      <td>2</td>\n",
       "      <td>Shane Warne</td>\n",
       "      <td>73</td>\n",
       "      <td>71.0</td>\n",
       "      <td>1548</td>\n",
       "      <td>1863</td>\n",
       "      <td>70</td>\n",
       "      <td>4/21</td>\n",
       "      <td>4/21</td>\n",
       "      <td>26.61</td>\n",
       "      <td>7.22</td>\n",
       "      <td>22.1</td>\n",
       "      <td>1.0</td>\n",
       "      <td>0</td>\n",
       "      <td>0</td>\n",
       "      <td>258.0</td>\n",
       "    </tr>\n",
       "    <tr>\n",
       "      <th>3</th>\n",
       "      <td>3</td>\n",
       "      <td>Anil Kumble</td>\n",
       "      <td>54</td>\n",
       "      <td>54.0</td>\n",
       "      <td>1245</td>\n",
       "      <td>1389</td>\n",
       "      <td>57</td>\n",
       "      <td>5/5</td>\n",
       "      <td>5/5</td>\n",
       "      <td>24.36</td>\n",
       "      <td>6.69</td>\n",
       "      <td>21.8</td>\n",
       "      <td>2.0</td>\n",
       "      <td>1</td>\n",
       "      <td>0</td>\n",
       "      <td>207.3</td>\n",
       "    </tr>\n",
       "    <tr>\n",
       "      <th>4</th>\n",
       "      <td>4</td>\n",
       "      <td>Rashid Khan</td>\n",
       "      <td>179</td>\n",
       "      <td>177.0</td>\n",
       "      <td>4139</td>\n",
       "      <td>4258</td>\n",
       "      <td>261</td>\n",
       "      <td>5/3</td>\n",
       "      <td>5/3</td>\n",
       "      <td>16.31</td>\n",
       "      <td>6.17</td>\n",
       "      <td>15.8</td>\n",
       "      <td>5.0</td>\n",
       "      <td>2</td>\n",
       "      <td>0</td>\n",
       "      <td>689.5</td>\n",
       "    </tr>\n",
       "    <tr>\n",
       "      <th>5</th>\n",
       "      <td>5</td>\n",
       "      <td>Yuzvendra Chahal</td>\n",
       "      <td>151</td>\n",
       "      <td>149.0</td>\n",
       "      <td>3171</td>\n",
       "      <td>3986</td>\n",
       "      <td>172</td>\n",
       "      <td>6/25</td>\n",
       "      <td>6/25</td>\n",
       "      <td>23.17</td>\n",
       "      <td>7.54</td>\n",
       "      <td>18.4</td>\n",
       "      <td>4.0</td>\n",
       "      <td>1</td>\n",
       "      <td>0</td>\n",
       "      <td>528.3</td>\n",
       "    </tr>\n",
       "    <tr>\n",
       "      <th>6</th>\n",
       "      <td>6</td>\n",
       "      <td>Amit Mishra</td>\n",
       "      <td>217</td>\n",
       "      <td>216.0</td>\n",
       "      <td>4558</td>\n",
       "      <td>5436</td>\n",
       "      <td>247</td>\n",
       "      <td>5/17</td>\n",
       "      <td>5/17</td>\n",
       "      <td>22.00</td>\n",
       "      <td>7.15</td>\n",
       "      <td>18.4</td>\n",
       "      <td>4.0</td>\n",
       "      <td>2</td>\n",
       "      <td>0</td>\n",
       "      <td>759.4</td>\n",
       "    </tr>\n",
       "    <tr>\n",
       "      <th>7</th>\n",
       "      <td>7</td>\n",
       "      <td>Adam Zampa</td>\n",
       "      <td>123</td>\n",
       "      <td>119.0</td>\n",
       "      <td>2481</td>\n",
       "      <td>3001</td>\n",
       "      <td>135</td>\n",
       "      <td>6/19</td>\n",
       "      <td>6/19</td>\n",
       "      <td>22.22</td>\n",
       "      <td>7.25</td>\n",
       "      <td>18.3</td>\n",
       "      <td>0.0</td>\n",
       "      <td>1</td>\n",
       "      <td>0</td>\n",
       "      <td>413.3</td>\n",
       "    </tr>\n",
       "    <tr>\n",
       "      <th>8</th>\n",
       "      <td>8</td>\n",
       "      <td>Imran Tahir</td>\n",
       "      <td>259</td>\n",
       "      <td>246.0</td>\n",
       "      <td>5525</td>\n",
       "      <td>6530</td>\n",
       "      <td>317</td>\n",
       "      <td>5/23</td>\n",
       "      <td>5/23</td>\n",
       "      <td>20.59</td>\n",
       "      <td>7.09</td>\n",
       "      <td>17.4</td>\n",
       "      <td>9.0</td>\n",
       "      <td>2</td>\n",
       "      <td>0</td>\n",
       "      <td>920.5</td>\n",
       "    </tr>\n",
       "  </tbody>\n",
       "</table>\n",
       "</div>"
      ],
      "text/plain": [
       "   Unnamed: 0                Name  Mat   Inns  Balls  Runs  Wkts   BBI   BBM  \\\n",
       "0           0         Adil Rashid  164  158.0   3345  4118   186  4/19  4/19   \n",
       "1           1  Sandeep Lamichhane   48   48.0   1028  1244    64  4/10  4/10   \n",
       "2           2         Shane Warne   73   71.0   1548  1863    70  4/21  4/21   \n",
       "3           3         Anil Kumble   54   54.0   1245  1389    57   5/5   5/5   \n",
       "4           4         Rashid Khan  179  177.0   4139  4258   261   5/3   5/3   \n",
       "5           5    Yuzvendra Chahal  151  149.0   3171  3986   172  6/25  6/25   \n",
       "6           6         Amit Mishra  217  216.0   4558  5436   247  5/17  5/17   \n",
       "7           7          Adam Zampa  123  119.0   2481  3001   135  6/19  6/19   \n",
       "8           8         Imran Tahir  259  246.0   5525  6530   317  5/23  5/23   \n",
       "\n",
       "     Ave  Econ    SR   4w  5w  10  Overs  \n",
       "0  22.13  7.38  17.9  5.0   0   0  557.3  \n",
       "1  19.43  7.26  16.0  1.0   0   0  171.2  \n",
       "2  26.61  7.22  22.1  1.0   0   0  258.0  \n",
       "3  24.36  6.69  21.8  2.0   1   0  207.3  \n",
       "4  16.31  6.17  15.8  5.0   2   0  689.5  \n",
       "5  23.17  7.54  18.4  4.0   1   0  528.3  \n",
       "6  22.00  7.15  18.4  4.0   2   0  759.4  \n",
       "7  22.22  7.25  18.3  0.0   1   0  413.3  \n",
       "8  20.59  7.09  17.4  9.0   2   0  920.5  "
      ]
     },
     "execution_count": 34,
     "metadata": {},
     "output_type": "execute_result"
    }
   ],
   "source": [
    "df"
   ]
  },
  {
   "cell_type": "code",
   "execution_count": 11,
   "metadata": {},
   "outputs": [
    {
     "data": {
      "text/plain": [
       "0           Adil Rashid\n",
       "1    Sandeep Lamichhane\n",
       "2           Shane Warne\n",
       "3           Anil Kumble\n",
       "4           Rashid Khan\n",
       "5      Yuzvendra Chahal\n",
       "6           Amit Mishra\n",
       "7            Adam Zampa\n",
       "8           Imran Tahir\n",
       "Name: Name, dtype: object"
      ]
     },
     "execution_count": 11,
     "metadata": {},
     "output_type": "execute_result"
    }
   ],
   "source": [
    "# plt.bar(x=df['Name'], height=df['Ave'])\n",
    "df.Name"
   ]
  },
  {
   "cell_type": "code",
   "execution_count": 46,
   "metadata": {},
   "outputs": [],
   "source": [
    "df_econ = df[['Name','Econ']]"
   ]
  },
  {
   "cell_type": "code",
   "execution_count": 47,
   "metadata": {},
   "outputs": [
    {
     "data": {
      "text/html": [
       "<div>\n",
       "<style scoped>\n",
       "    .dataframe tbody tr th:only-of-type {\n",
       "        vertical-align: middle;\n",
       "    }\n",
       "\n",
       "    .dataframe tbody tr th {\n",
       "        vertical-align: top;\n",
       "    }\n",
       "\n",
       "    .dataframe thead th {\n",
       "        text-align: right;\n",
       "    }\n",
       "</style>\n",
       "<table border=\"1\" class=\"dataframe\">\n",
       "  <thead>\n",
       "    <tr style=\"text-align: right;\">\n",
       "      <th></th>\n",
       "      <th>Name</th>\n",
       "      <th>Econ</th>\n",
       "    </tr>\n",
       "  </thead>\n",
       "  <tbody>\n",
       "    <tr>\n",
       "      <th>0</th>\n",
       "      <td>Adil Rashid</td>\n",
       "      <td>7.38</td>\n",
       "    </tr>\n",
       "  </tbody>\n",
       "</table>\n",
       "</div>"
      ],
      "text/plain": [
       "          Name  Econ\n",
       "0  Adil Rashid  7.38"
      ]
     },
     "execution_count": 47,
     "metadata": {},
     "output_type": "execute_result"
    }
   ],
   "source": [
    "x = pd.DataFrame(df_avg.iloc[0]).T\n",
    "x"
   ]
  },
  {
   "cell_type": "code",
   "execution_count": 43,
   "metadata": {},
   "outputs": [
    {
     "data": {
      "text/plain": [
       "<BarContainer object of 1 artists>"
      ]
     },
     "execution_count": 43,
     "metadata": {},
     "output_type": "execute_result"
    },
    {
     "data": {
      "image/png": "[encoded data removed]",
      "text/plain": [
       "<Figure size 432x288 with 1 Axes>"
      ]
     },
     "metadata": {
      "needs_background": "light"
     },
     "output_type": "display_data"
    }
   ],
   "source": [
    "plt.bar(x.Name,x.Econ)"
   ]
  },
  {
   "cell_type": "code",
   "execution_count": 48,
   "metadata": {},
   "outputs": [],
   "source": [
    "data = []"
   ]
  },
  {
   "cell_type": "code",
   "execution_count": 51,
   "metadata": {},
   "outputs": [],
   "source": [
    "df_rashid = pd.DataFrame(df_econ.iloc[0]).T"
   ]
  },
  {
   "cell_type": "code",
   "execution_count": 52,
   "metadata": {},
   "outputs": [
    {
     "data": {
      "text/html": [
       "<div>\n",
       "<style scoped>\n",
       "    .dataframe tbody tr th:only-of-type {\n",
       "        vertical-align: middle;\n",
       "    }\n",
       "\n",
       "    .dataframe tbody tr th {\n",
       "        vertical-align: top;\n",
       "    }\n",
       "\n",
       "    .dataframe thead th {\n",
       "        text-align: right;\n",
       "    }\n",
       "</style>\n",
       "<table border=\"1\" class=\"dataframe\">\n",
       "  <thead>\n",
       "    <tr style=\"text-align: right;\">\n",
       "      <th></th>\n",
       "      <th>Name</th>\n",
       "      <th>Econ</th>\n",
       "    </tr>\n",
       "  </thead>\n",
       "  <tbody>\n",
       "    <tr>\n",
       "      <th>0</th>\n",
       "      <td>Adil Rashid</td>\n",
       "      <td>7.38</td>\n",
       "    </tr>\n",
       "  </tbody>\n",
       "</table>\n",
       "</div>"
      ],
      "text/plain": [
       "          Name  Econ\n",
       "0  Adil Rashid  7.38"
      ]
     },
     "execution_count": 52,
     "metadata": {},
     "output_type": "execute_result"
    }
   ],
   "source": [
    "df_rashid"
   ]
  },
  {
   "cell_type": "code",
   "execution_count": 53,
   "metadata": {},
   "outputs": [],
   "source": [
    "data = df_rashid"
   ]
  },
  {
   "cell_type": "code",
   "execution_count": 54,
   "metadata": {},
   "outputs": [
    {
     "data": {
      "text/html": [
       "<div>\n",
       "<style scoped>\n",
       "    .dataframe tbody tr th:only-of-type {\n",
       "        vertical-align: middle;\n",
       "    }\n",
       "\n",
       "    .dataframe tbody tr th {\n",
       "        vertical-align: top;\n",
       "    }\n",
       "\n",
       "    .dataframe thead th {\n",
       "        text-align: right;\n",
       "    }\n",
       "</style>\n",
       "<table border=\"1\" class=\"dataframe\">\n",
       "  <thead>\n",
       "    <tr style=\"text-align: right;\">\n",
       "      <th></th>\n",
       "      <th>Name</th>\n",
       "      <th>Econ</th>\n",
       "    </tr>\n",
       "  </thead>\n",
       "  <tbody>\n",
       "    <tr>\n",
       "      <th>0</th>\n",
       "      <td>Adil Rashid</td>\n",
       "      <td>7.38</td>\n",
       "    </tr>\n",
       "  </tbody>\n",
       "</table>\n",
       "</div>"
      ],
      "text/plain": [
       "          Name  Econ\n",
       "0  Adil Rashid  7.38"
      ]
     },
     "execution_count": 54,
     "metadata": {},
     "output_type": "execute_result"
    }
   ],
   "source": []
  },
  {
   "cell_type": "code",
   "execution_count": null,
   "metadata": {},
   "outputs": [],
   "source": []
  }
 ],
 "metadata": {
  "kernelspec": {
   "display_name": "Python 3",
   "language": "python",
   "name": "python3"
  },
  "language_info": {
   "codemirror_mode": {
    "name": "ipython",
    "version": 3
   },
   "file_extension": ".py",
   "mimetype": "text/x-python",
   "name": "python",
   "nbconvert_exporter": "python",
   "pygments_lexer": "ipython3",
   "version": "3.7.3"
  }
 },
 "nbformat": 4,
 "nbformat_minor": 2
}
